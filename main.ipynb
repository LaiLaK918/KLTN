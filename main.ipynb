{
 "cells": [
  {
   "cell_type": "code",
   "execution_count": 68,
   "metadata": {},
   "outputs": [],
   "source": [
    "import glob\n",
    "\n",
    "data_folder = r'Datasets\\TabularIoTAttacks-2024'\n",
    "data_files = glob.glob(data_folder + '/*.csv')"
   ]
  },
  {
   "cell_type": "code",
   "execution_count": 69,
   "metadata": {},
   "outputs": [
    {
     "data": {
      "text/plain": [
       "['Datasets\\\\TabularIoTAttacks-2024\\\\Benign Traffic_2.csv',\n",
       " 'Datasets\\\\TabularIoTAttacks-2024\\\\DDoS ICMP Flood.csv',\n",
       " 'Datasets\\\\TabularIoTAttacks-2024\\\\DDoS UDP Flood.csv',\n",
       " 'Datasets\\\\TabularIoTAttacks-2024\\\\DoS ICMP Flood.csv',\n",
       " 'Datasets\\\\TabularIoTAttacks-2024\\\\DoS TCP Flood.csv',\n",
       " 'Datasets\\\\TabularIoTAttacks-2024\\\\DoS UDP Flood.csv',\n",
       " 'Datasets\\\\TabularIoTAttacks-2024\\\\MITM ARP Spoofing.csv',\n",
       " 'Datasets\\\\TabularIoTAttacks-2024\\\\MQTT DDoS Publish Flood.csv',\n",
       " 'Datasets\\\\TabularIoTAttacks-2024\\\\MQTT DoS Connect Flood.csv',\n",
       " 'Datasets\\\\TabularIoTAttacks-2024\\\\MQTT DoS Publish Flood.csv',\n",
       " 'Datasets\\\\TabularIoTAttacks-2024\\\\MQTT Malformed.csv',\n",
       " 'Datasets\\\\TabularIoTAttacks-2024\\\\Recon OS Scan.csv',\n",
       " 'Datasets\\\\TabularIoTAttacks-2024\\\\Recon Ping Sweep.csv',\n",
       " 'Datasets\\\\TabularIoTAttacks-2024\\\\Recon Port Scan.csv',\n",
       " 'Datasets\\\\TabularIoTAttacks-2024\\\\Recon Vulnerability Scan.csv']"
      ]
     },
     "execution_count": 69,
     "metadata": {},
     "output_type": "execute_result"
    }
   ],
   "source": [
    "data_files"
   ]
  },
  {
   "cell_type": "code",
   "execution_count": 70,
   "metadata": {},
   "outputs": [],
   "source": [
    "selected_attacks = ['DoS TCP Flood', 'Recon Port Scan', 'MQTT DDoS Publish Flood', 'MQTT DoS Connect Flood', 'Benign Traffic']\n",
    "selected_files = [file for file in data_files if any(attack in file for attack in selected_attacks)]"
   ]
  },
  {
   "cell_type": "code",
   "execution_count": 71,
   "metadata": {},
   "outputs": [
    {
     "name": "stdout",
     "output_type": "stream",
     "text": [
      "No pre-existing encoder/scaler found. Creating new ones.\n"
     ]
    },
    {
     "name": "stderr",
     "output_type": "stream",
     "text": [
      "  0%|          | 0/5 [00:00<?, ?it/s]"
     ]
    },
    {
     "name": "stderr",
     "output_type": "stream",
     "text": [
      "100%|██████████| 5/5 [00:56<00:00, 11.34s/it]\n"
     ]
    }
   ],
   "source": [
    "from data_preprocessing import create_datasets\n",
    "from model import LSTMModel\n",
    "from train import train_and_evaluate\n",
    "import joblib\n",
    "\n",
    "file_names = selected_files\n",
    "window_size = 1  # The size of the window\n",
    "batch_size = 1024\n",
    "\n",
    "# Try to load existing encoder (if you saved it previously)\n",
    "encoder_path = \"label_encoder.pkl\"\n",
    "scaler_path = \"scaler.pkl\"\n",
    "model_path = \"lstm_model.pth\"\n",
    "label_encoder = None\n",
    "scaler = None\n",
    "\n",
    "try:\n",
    "    label_encoder = joblib.load(encoder_path)\n",
    "    scaler = joblib.load(scaler_path)\n",
    "    print(\"Loaded existing encoder and scaler.\")\n",
    "except:\n",
    "    print(\"No pre-existing encoder/scaler found. Creating new ones.\")\n",
    "\n",
    "\n",
    "# Prepare the data\n",
    "train_loader, val_loader, test_loader, scaler, label_encoder, dataset = create_datasets(file_names, \n",
    "                                                                                        window_size, label_encoder=label_encoder, \n",
    "                                                                                        scaler=scaler,\n",
    "                                                                                        batch_size=batch_size)\n",
    "\n",
    "\n",
    "# Initialize the LSTM model\n",
    "input_size = train_loader.dataset[0][0].shape[1]  # Number of features\n",
    "hidden_size = input_size // 2\n",
    "num_classes = len(label_encoder.classes_)  # Number of unique attack names"
   ]
  },
  {
   "cell_type": "code",
   "execution_count": 72,
   "metadata": {},
   "outputs": [
    {
     "data": {
      "text/plain": [
       "(Counter({np.int64(1): 1517102,\n",
       "          np.int64(4): 349365,\n",
       "          np.int64(2): 298180,\n",
       "          np.int64(3): 171208,\n",
       "          np.int64(0): 23585}),\n",
       " Counter({np.int64(1): 421034,\n",
       "          np.int64(4): 97451,\n",
       "          np.int64(2): 82675,\n",
       "          np.int64(3): 47805,\n",
       "          np.int64(0): 6436}),\n",
       " Counter({np.int64(1): 168780,\n",
       "          np.int64(4): 38706,\n",
       "          np.int64(2): 33058,\n",
       "          np.int64(3): 19018,\n",
       "          np.int64(0): 2599}))"
      ]
     },
     "execution_count": 72,
     "metadata": {},
     "output_type": "execute_result"
    }
   ],
   "source": [
    "from collections import Counter\n",
    "\n",
    "train_labels = [label for _, label in train_loader.dataset]\n",
    "test_labels = [label for _, label in test_loader.dataset]\n",
    "val_labels = [label for _, label in val_loader.dataset]\n",
    "Counter(train_labels), Counter(test_labels), Counter(val_labels)"
   ]
  },
  {
   "cell_type": "code",
   "execution_count": 73,
   "metadata": {},
   "outputs": [
    {
     "name": "stderr",
     "output_type": "stream",
     "text": [
      "2024-12-10 12:02:34,503 - INFO - Epoch [1/10] training started.\n",
      "Epoch 1/10: 100%|██████████| 2305/2305 [01:19<00:00, 29.00batch/s, accuracy=95.9, loss=0.119]\n",
      "2024-12-10 12:03:53,997 - INFO - Epoch [1/10] training completed. Loss: 0.1188, Accuracy: 95.88%\n",
      "2024-12-10 12:03:53,999 - INFO - Epoch [1/10] validation started.\n",
      "Validating: 100%|██████████| 257/257 [00:08<00:00, 32.02batch/s, accuracy=99.8]\n",
      "2024-12-10 12:04:02,031 - INFO - Epoch [1/10] validation completed. Accuracy: 99.77%\n",
      "2024-12-10 12:04:02,032 - INFO - Epoch [2/10] training started.\n",
      "Epoch 2/10: 100%|██████████| 2305/2305 [01:20<00:00, 28.61batch/s, accuracy=99.8, loss=0.00748]\n",
      "2024-12-10 12:05:22,594 - INFO - Epoch [2/10] training completed. Loss: 0.0075, Accuracy: 99.82%\n",
      "2024-12-10 12:05:22,595 - INFO - Epoch [2/10] validation started.\n",
      "Validating: 100%|██████████| 257/257 [00:07<00:00, 32.81batch/s, accuracy=99.9]\n",
      "2024-12-10 12:05:30,436 - INFO - Epoch [2/10] validation completed. Accuracy: 99.88%\n",
      "2024-12-10 12:05:30,439 - INFO - Epoch [3/10] training started.\n",
      "Epoch 3/10: 100%|██████████| 2305/2305 [01:24<00:00, 27.24batch/s, accuracy=99.9, loss=0.00488]\n",
      "2024-12-10 12:06:55,076 - INFO - Epoch [3/10] training completed. Loss: 0.0049, Accuracy: 99.88%\n",
      "2024-12-10 12:06:55,078 - INFO - Epoch [3/10] validation started.\n",
      "Validating: 100%|██████████| 257/257 [00:07<00:00, 33.15batch/s, accuracy=99.9]\n",
      "2024-12-10 12:07:02,837 - INFO - Epoch [3/10] validation completed. Accuracy: 99.91%\n",
      "2024-12-10 12:07:02,840 - INFO - Epoch [4/10] training started.\n",
      "Epoch 4/10: 100%|██████████| 2305/2305 [01:22<00:00, 28.10batch/s, accuracy=99.9, loss=0.00391]\n",
      "2024-12-10 12:08:24,881 - INFO - Epoch [4/10] training completed. Loss: 0.0039, Accuracy: 99.90%\n",
      "2024-12-10 12:08:24,884 - INFO - Epoch [4/10] validation started.\n",
      "Validating: 100%|██████████| 257/257 [00:07<00:00, 33.50batch/s, accuracy=99.9]\n",
      "2024-12-10 12:08:32,562 - INFO - Epoch [4/10] validation completed. Accuracy: 99.93%\n",
      "2024-12-10 12:08:32,565 - INFO - Epoch [5/10] training started.\n",
      "Epoch 5/10: 100%|██████████| 2305/2305 [01:21<00:00, 28.36batch/s, accuracy=99.9, loss=0.00341]\n",
      "2024-12-10 12:09:53,836 - INFO - Epoch [5/10] training completed. Loss: 0.0034, Accuracy: 99.91%\n",
      "2024-12-10 12:09:53,837 - INFO - Epoch [5/10] validation started.\n",
      "Validating: 100%|██████████| 257/257 [00:07<00:00, 34.81batch/s, accuracy=99.9]\n",
      "2024-12-10 12:10:01,225 - INFO - Epoch [5/10] validation completed. Accuracy: 99.93%\n",
      "2024-12-10 12:10:01,226 - INFO - Epoch [6/10] training started.\n",
      "Epoch 6/10: 100%|██████████| 2305/2305 [01:21<00:00, 28.16batch/s, accuracy=99.9, loss=0.0031] \n",
      "2024-12-10 12:11:23,078 - INFO - Epoch [6/10] training completed. Loss: 0.0031, Accuracy: 99.92%\n",
      "2024-12-10 12:11:23,080 - INFO - Epoch [6/10] validation started.\n",
      "Validating: 100%|██████████| 257/257 [00:08<00:00, 31.97batch/s, accuracy=99.9]\n",
      "2024-12-10 12:11:31,126 - INFO - Epoch [6/10] validation completed. Accuracy: 99.93%\n",
      "2024-12-10 12:11:31,127 - INFO - Epoch [7/10] training started.\n",
      "Epoch 7/10: 100%|██████████| 2305/2305 [01:22<00:00, 27.95batch/s, accuracy=99.9, loss=0.00285]\n",
      "2024-12-10 12:12:53,591 - INFO - Epoch [7/10] training completed. Loss: 0.0029, Accuracy: 99.92%\n",
      "2024-12-10 12:12:53,592 - INFO - Epoch [7/10] validation started.\n",
      "Validating: 100%|██████████| 257/257 [00:07<00:00, 33.42batch/s, accuracy=99.9]\n",
      "2024-12-10 12:13:01,290 - INFO - Epoch [7/10] validation completed. Accuracy: 99.94%\n",
      "2024-12-10 12:13:01,292 - INFO - Epoch [8/10] training started.\n",
      "Epoch 8/10: 100%|██████████| 2305/2305 [01:22<00:00, 27.89batch/s, accuracy=99.9, loss=0.00269]\n",
      "2024-12-10 12:14:23,960 - INFO - Epoch [8/10] training completed. Loss: 0.0027, Accuracy: 99.93%\n",
      "2024-12-10 12:14:23,962 - INFO - Epoch [8/10] validation started.\n",
      "Validating: 100%|██████████| 257/257 [00:08<00:00, 31.67batch/s, accuracy=99.9]\n",
      "2024-12-10 12:14:32,085 - INFO - Epoch [8/10] validation completed. Accuracy: 99.93%\n",
      "2024-12-10 12:14:32,088 - INFO - Epoch [9/10] training started.\n",
      "Epoch 9/10: 100%|██████████| 2305/2305 [01:21<00:00, 28.37batch/s, accuracy=99.9, loss=0.00254]\n",
      "2024-12-10 12:15:53,330 - INFO - Epoch [9/10] training completed. Loss: 0.0025, Accuracy: 99.93%\n",
      "2024-12-10 12:15:53,332 - INFO - Epoch [9/10] validation started.\n",
      "Validating: 100%|██████████| 257/257 [00:08<00:00, 31.91batch/s, accuracy=99.9]\n",
      "2024-12-10 12:16:01,392 - INFO - Epoch [9/10] validation completed. Accuracy: 99.94%\n",
      "2024-12-10 12:16:01,394 - INFO - Epoch [10/10] training started.\n",
      "Epoch 10/10: 100%|██████████| 2305/2305 [01:20<00:00, 28.65batch/s, accuracy=99.9, loss=0.00239]\n",
      "2024-12-10 12:17:21,865 - INFO - Epoch [10/10] training completed. Loss: 0.0024, Accuracy: 99.93%\n",
      "2024-12-10 12:17:21,866 - INFO - Epoch [10/10] validation started.\n",
      "Validating: 100%|██████████| 257/257 [00:07<00:00, 32.26batch/s, accuracy=99.9]\n",
      "2024-12-10 12:17:29,839 - INFO - Epoch [10/10] validation completed. Accuracy: 99.94%\n",
      "2024-12-10 12:17:29,855 - INFO - Model saved at runs/lstm_training_windows_size_1_20241210_120234\\lstm_model.pth\n",
      "2024-12-10 12:17:29,863 - INFO - Label encoder and scaler saved at runs/lstm_training_windows_size_1_20241210_120234\\label_encoder.pkl and runs/lstm_training_windows_size_1_20241210_120234\\scaler.pkl\n",
      "2024-12-10 12:17:29,865 - INFO - Testing started.\n",
      "Testing: 100%|██████████| 641/641 [00:20<00:00, 31.65batch/s, accuracy=99.9]\n",
      "2024-12-10 12:17:50,125 - INFO - Test Accuracy: 99.93%\n",
      "2024-12-10 12:17:50,127 - INFO - \n",
      "Classification Report:\n",
      "\n",
      "2024-12-10 12:17:50,989 - INFO -               precision    recall  f1-score   support\n",
      "\n",
      "           0       1.00      1.00      1.00      6436\n",
      "           1       1.00      1.00      1.00    421034\n",
      "           2       1.00      1.00      1.00     82675\n",
      "           3       1.00      1.00      1.00     47805\n",
      "           4       1.00      1.00      1.00     97451\n",
      "\n",
      "    accuracy                           1.00    655401\n",
      "   macro avg       1.00      1.00      1.00    655401\n",
      "weighted avg       1.00      1.00      1.00    655401\n",
      "\n"
     ]
    },
    {
     "name": "stdout",
     "output_type": "stream",
     "text": [
      "              precision    recall  f1-score   support\n",
      "\n",
      "           0       1.00      1.00      1.00      6436\n",
      "           1       1.00      1.00      1.00    421034\n",
      "           2       1.00      1.00      1.00     82675\n",
      "           3       1.00      1.00      1.00     47805\n",
      "           4       1.00      1.00      1.00     97451\n",
      "\n",
      "    accuracy                           1.00    655401\n",
      "   macro avg       1.00      1.00      1.00    655401\n",
      "weighted avg       1.00      1.00      1.00    655401\n",
      "\n"
     ]
    }
   ],
   "source": [
    "model = LSTMModel(input_size=input_size, hidden_size=hidden_size, num_classes=num_classes)\n",
    "epochs = 10\n",
    "# Train and evaluate the model\n",
    "model_save_path, encoder_save_path, scaler_save_path = train_and_evaluate(model, train_loader, val_loader, test_loader, dataset, \n",
    "                   model_save_path=model_path, \n",
    "                   encoder_save_path=encoder_path, \n",
    "                   scaler_save_path=scaler_path,\n",
    "                   epochs=epochs,\n",
    "                   windows_size=window_size)\n"
   ]
  },
  {
   "cell_type": "code",
   "execution_count": 74,
   "metadata": {},
   "outputs": [
    {
     "data": {
      "text/plain": [
       "LSTMModel(\n",
       "  (lstm): LSTM(80, 40, num_layers=2, batch_first=True, dropout=0.2)\n",
       "  (fc): Linear(in_features=40, out_features=5, bias=True)\n",
       ")"
      ]
     },
     "execution_count": 74,
     "metadata": {},
     "output_type": "execute_result"
    }
   ],
   "source": [
    "model"
   ]
  },
  {
   "cell_type": "code",
   "execution_count": 75,
   "metadata": {},
   "outputs": [
    {
     "name": "stdout",
     "output_type": "stream",
     "text": [
      "Loaded classes: ['Benign Traffic' 'DoS TCP Flood' 'MQTT DDoS Publish Flood'\n",
      " 'MQTT DoS Connect Flood' 'Recon Port Scan']\n"
     ]
    }
   ],
   "source": [
    "import joblib\n",
    "from sklearn.preprocessing import LabelEncoder\n",
    "\n",
    "# Load the LabelEncoder from the .pkl file\n",
    "label_encoder = joblib.load(encoder_save_path) # type: LabelEncoder\n",
    "\n",
    "# Example usage\n",
    "classes = label_encoder.classes_ # type: list\n",
    "print(\"Loaded classes:\", classes)\n",
    "\n"
   ]
  },
  {
   "cell_type": "code",
   "execution_count": 76,
   "metadata": {},
   "outputs": [
    {
     "name": "stderr",
     "output_type": "stream",
     "text": [
      "Testing: 100%|██████████| 641/641 [00:19<00:00, 33.53batch/s, accuracy=99.9]\n"
     ]
    }
   ],
   "source": [
    "import torch\n",
    "from tqdm import tqdm\n",
    "from sklearn.metrics import classification_report\n",
    "\n",
    "device = torch.device(\"cuda\" if torch.cuda.is_available() else \"cpu\")\n",
    "\n",
    "model.eval()\n",
    "correct_test = 0\n",
    "total_test = 0\n",
    "all_labels = []\n",
    "all_preds = []\n",
    "with torch.no_grad():\n",
    "    with tqdm(test_loader, desc=\"Testing\", unit=\"batch\") as pbar_test:\n",
    "        for inputs, labels in pbar_test:\n",
    "            inputs, labels = inputs.to(device), labels.to(device)\n",
    "            outputs = model(inputs)\n",
    "            _, predicted = torch.max(outputs, 1)\n",
    "\n",
    "            # Accumulate results for classification report\n",
    "            all_labels.extend(labels.cpu().numpy())\n",
    "            all_preds.extend(predicted.cpu().numpy())\n",
    "\n",
    "            total_test += labels.size(0)\n",
    "            correct_test += (predicted == labels).sum().item()\n",
    "\n",
    "            pbar_test.set_postfix(accuracy=100 * correct_test/total_test)\n",
    "\n",
    "test_accuracy = 100 * correct_test / total_test\n",
    "\n",
    "# Print the classification report\n",
    "report = classification_report(all_labels, all_preds)\n"
   ]
  },
  {
   "cell_type": "code",
   "execution_count": null,
   "metadata": {},
   "outputs": [
    {
     "data": {
      "text/plain": [
       "Counter({np.int64(1): 421034,\n",
       "         np.int64(4): 97451,\n",
       "         np.int64(2): 82675,\n",
       "         np.int64(3): 47805,\n",
       "         np.int64(0): 6436})"
      ]
     },
     "execution_count": 82,
     "metadata": {},
     "output_type": "execute_result"
    }
   ],
   "source": []
  },
  {
   "cell_type": "code",
   "execution_count": 77,
   "metadata": {},
   "outputs": [
    {
     "name": "stdout",
     "output_type": "stream",
     "text": [
      "              precision    recall  f1-score   support\n",
      "\n",
      "           0     0.9998    1.0000    0.9999      6436\n",
      "           1     0.9995    0.9998    0.9997    421034\n",
      "           2     0.9986    0.9987    0.9986     82675\n",
      "           3     0.9982    0.9976    0.9979     47805\n",
      "           4     0.9998    0.9988    0.9993     97451\n",
      "\n",
      "    accuracy                         0.9993    655401\n",
      "   macro avg     0.9992    0.9990    0.9991    655401\n",
      "weighted avg     0.9993    0.9993    0.9993    655401\n",
      "\n"
     ]
    }
   ],
   "source": [
    "print(classification_report(all_labels, all_preds, digits=4))"
   ]
  },
  {
   "cell_type": "code",
   "execution_count": 78,
   "metadata": {},
   "outputs": [
    {
     "name": "stdout",
     "output_type": "stream",
     "text": [
      "                         precision    recall  f1-score   support\n",
      "\n",
      "         Benign Traffic     0.9998    1.0000    0.9999      6436\n",
      "          DoS TCP Flood     0.9995    0.9998    0.9997    421034\n",
      "MQTT DDoS Publish Flood     0.9986    0.9987    0.9986     82675\n",
      " MQTT DoS Connect Flood     0.9982    0.9976    0.9979     47805\n",
      "        Recon Port Scan     0.9998    0.9988    0.9993     97451\n",
      "\n",
      "               accuracy                         0.9993    655401\n",
      "              macro avg     0.9992    0.9990    0.9991    655401\n",
      "           weighted avg     0.9993    0.9993    0.9993    655401\n",
      "\n"
     ]
    }
   ],
   "source": [
    "print(classification_report(all_labels, all_preds, digits=4, target_names=label_encoder.classes_))"
   ]
  },
  {
   "cell_type": "code",
   "execution_count": 79,
   "metadata": {},
   "outputs": [],
   "source": [
    "label_idxs = [0, 4, 7, 8, 13]"
   ]
  },
  {
   "cell_type": "code",
   "execution_count": 80,
   "metadata": {},
   "outputs": [
    {
     "ename": "IndexError",
     "evalue": "index 7 is out of bounds for axis 0 with size 5",
     "output_type": "error",
     "traceback": [
      "\u001b[1;31m---------------------------------------------------------------------------\u001b[0m",
      "\u001b[1;31mIndexError\u001b[0m                                Traceback (most recent call last)",
      "Cell \u001b[1;32mIn[80], line 1\u001b[0m\n\u001b[1;32m----> 1\u001b[0m \u001b[38;5;28mprint\u001b[39m(classification_report(all_labels, all_preds, digits\u001b[38;5;241m=\u001b[39m\u001b[38;5;241m4\u001b[39m, labels\u001b[38;5;241m=\u001b[39mlabel_idxs, target_names\u001b[38;5;241m=\u001b[39m[\u001b[43mclasses\u001b[49m\u001b[43m[\u001b[49m\u001b[43mi\u001b[49m\u001b[43m]\u001b[49m \u001b[38;5;28;01mfor\u001b[39;00m i \u001b[38;5;129;01min\u001b[39;00m label_idxs]))\n",
      "\u001b[1;31mIndexError\u001b[0m: index 7 is out of bounds for axis 0 with size 5"
     ]
    }
   ],
   "source": [
    "print(classification_report(all_labels, all_preds, digits=4, labels=label_idxs, target_names=[classes[i] for i in label_idxs]))"
   ]
  },
  {
   "cell_type": "code",
   "execution_count": null,
   "metadata": {},
   "outputs": [
    {
     "name": "stdout",
     "output_type": "stream",
     "text": [
      "                         precision    recall  f1-score   support\n",
      "\n",
      "         Benign Traffic     0.9984    1.0000    0.9992       612\n",
      "          DoS TCP Flood     0.9998    0.9994    0.9996     42343\n",
      "MQTT DDoS Publish Flood     0.9990    0.9976    0.9983      8244\n",
      " MQTT DoS Connect Flood     0.9848    0.9985    0.9916      4660\n",
      "          Recon OS Scan     0.7006    0.6414    0.6697      1704\n",
      "        Recon Port Scan     0.9393    0.9611    0.9500      9685\n",
      "\n",
      "              micro avg     0.9828    0.9845    0.9837     67248\n",
      "              macro avg     0.9370    0.9330    0.9347     67248\n",
      "           weighted avg     0.9824    0.9845    0.9834     67248\n",
      "\n"
     ]
    }
   ],
   "source": [
    "label_idxs = [0, 4, 7, 8, 11, 13]\n",
    "print(classification_report(all_labels, all_preds, digits=4, labels=label_idxs, target_names=[classes[i] for i in label_idxs]))"
   ]
  },
  {
   "cell_type": "code",
   "execution_count": 83,
   "metadata": {},
   "outputs": [],
   "source": [
    "import pandas as pd\n",
    "\n",
    "df = pd.DataFrame({'True': all_labels, 'Predicted': all_preds})"
   ]
  },
  {
   "cell_type": "code",
   "execution_count": 86,
   "metadata": {},
   "outputs": [],
   "source": [
    "df['True'] = label_encoder.inverse_transform(df['True'])    "
   ]
  },
  {
   "cell_type": "code",
   "execution_count": 89,
   "metadata": {},
   "outputs": [
    {
     "data": {
      "image/png": "[encoded data removed]",
      "text/plain": [
       "<Figure size 640x480 with 1 Axes>"
      ]
     },
     "metadata": {},
     "output_type": "display_data"
    }
   ],
   "source": [
    "import matplotlib.pyplot as plt\n",
    "\n",
    "ax = df['True'].value_counts().plot(kind='bar')\n",
    "\n",
    "# Add annotations for each bar\n",
    "for p in ax.patches:\n",
    "    ax.annotate(str(p.get_height()), (p.get_x() + p.get_width() / 2., p.get_height()),\n",
    "                ha='center', va='center', xytext=(0, 5), textcoords='offset points')\n",
    "\n",
    "# Rotate X-axis labels\n",
    "plt.xticks(rotation=25)\n",
    "\n",
    "# Show the plot\n",
    "plt.show()\n"
   ]
  },
  {
   "cell_type": "code",
   "execution_count": 91,
   "metadata": {},
   "outputs": [],
   "source": [
    "df = pd.DataFrame({'Label': dataset.labels})"
   ]
  },
  {
   "cell_type": "code",
   "execution_count": 93,
   "metadata": {},
   "outputs": [],
   "source": [
    "df['Label'] = label_encoder.inverse_transform(df['Label'])"
   ]
  },
  {
   "cell_type": "code",
   "execution_count": 94,
   "metadata": {},
   "outputs": [
    {
     "data": {
      "image/png": "[encoded data removed]",
      "text/plain": [
       "<Figure size 640x480 with 1 Axes>"
      ]
     },
     "metadata": {},
     "output_type": "display_data"
    }
   ],
   "source": [
    "import matplotlib.pyplot as plt\n",
    "\n",
    "ax = df['Label'].value_counts().plot(kind='bar')\n",
    "\n",
    "# Add annotations for each bar\n",
    "for p in ax.patches:\n",
    "    ax.annotate(str(p.get_height()), (p.get_x() + p.get_width() / 2., p.get_height()),\n",
    "                ha='center', va='center', xytext=(0, 5), textcoords='offset points')\n",
    "\n",
    "# Rotate X-axis labels\n",
    "plt.xticks(rotation=25)\n",
    "\n",
    "# Show the plot\n",
    "plt.show()\n"
   ]
  },
  {
   "cell_type": "code",
   "execution_count": null,
   "metadata": {},
   "outputs": [],
   "source": []
  }
 ],
 "metadata": {
  "kernelspec": {
   "display_name": ".venv",
   "language": "python",
   "name": "python3"
  },
  "language_info": {
   "codemirror_mode": {
    "name": "ipython",
    "version": 3
   },
   "file_extension": ".py",
   "mimetype": "text/x-python",
   "name": "python",
   "nbconvert_exporter": "python",
   "pygments_lexer": "ipython3",
   "version": "3.12.8"
  }
 },
 "nbformat": 4,
 "nbformat_minor": 2
}
