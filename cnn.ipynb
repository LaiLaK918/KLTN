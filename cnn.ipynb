{
 "cells": [
  {
   "cell_type": "code",
   "execution_count": 1,
   "metadata": {},
   "outputs": [],
   "source": [
    "import os\n",
    "import numpy as np\n",
    "import pandas as pd\n",
    "from sklearn.preprocessing import MinMaxScaler, LabelEncoder\n",
    "import torch\n",
    "import torch.nn as nn\n",
    "import torch.optim as optim\n",
    "from sklearn.metrics import classification_report\n",
    "from sklearn.model_selection import train_test_split\n",
    "from torch.utils.data import DataLoader, Dataset as TorchDataset\n",
    "from tqdm import tqdm\n",
    "from datasets import Dataset\n",
    "from datetime import datetime"
   ]
  },
  {
   "cell_type": "code",
   "execution_count": 2,
   "metadata": {},
   "outputs": [
    {
     "data": {
      "text/plain": [
       "True"
      ]
     },
     "execution_count": 2,
     "metadata": {},
     "output_type": "execute_result"
    }
   ],
   "source": [
    "torch.cuda.is_available()"
   ]
  },
  {
   "cell_type": "code",
   "execution_count": 3,
   "metadata": {},
   "outputs": [],
   "source": [
    "def merge_and_stat_label(folder_path):\n",
    "    all_dfs = []\n",
    "    for filename in tqdm(os.listdir(folder_path)):\n",
    "        if filename.endswith('.csv'):\n",
    "            file_path = os.path.join(folder_path, filename)\n",
    "            df = pd.read_csv(file_path)\n",
    "            all_dfs.append(df)\n",
    "    merged_df = pd.concat(all_dfs, ignore_index=True)\n",
    "    label_stats = merged_df['Label'].value_counts()\n",
    "    return merged_df, label_stats\n",
    "\n",
    "# Filter the dataset based on minimum label count\n",
    "def filter_by_min_count(df, label_column, min_count):\n",
    "    label_counts = df[label_column].value_counts()\n",
    "    valid_labels = label_counts[label_counts >= min_count].index\n",
    "    return df[df[label_column].isin(valid_labels)]\n",
    "\n",
    "# Create Hugging Face Dataset from raw data\n",
    "def create_huggingface_dataset(X, y, X_matrix, column_matrix):\n",
    "    data = []\n",
    "    le = LabelEncoder()\n",
    "    y_encoded = le.fit_transform(y)\n",
    "\n",
    "    # Process each row of data\n",
    "    for i in tqdm(range(len(X))):\n",
    "        x_value = X[i]  # Row in X\n",
    "        attack_name = y_encoded[i]\n",
    "        \n",
    "        # Map X[i] values to X_matrix and column_matrix (index-based)\n",
    "        X_transformed = np.concatenate([X_matrix[x_value], column_matrix])\n",
    "        \n",
    "        data.append({\"features\": X_transformed, \"label\": attack_name})\n",
    "\n",
    "    return Dataset.from_dict({\n",
    "        \"features\": [x[\"features\"] for x in data],\n",
    "        \"label\": [x[\"label\"] for x in data]\n",
    "    }), y_encoded, le"
   ]
  },
  {
   "cell_type": "code",
   "execution_count": 4,
   "metadata": {},
   "outputs": [
    {
     "name": "stderr",
     "output_type": "stream",
     "text": [
      "100%|██████████| 15/15 [00:37<00:00,  2.50s/it]\n"
     ]
    }
   ],
   "source": [
    "folder_path = 'Datasets/TabularIoTAttacks-2024'\n",
    "\n",
    "# Load and filter dataset\n",
    "merged_df, label_stats = merge_and_stat_label(folder_path)\n",
    "min_count = 32620\n",
    "filtered_df = filter_by_min_count(merged_df, 'Attack Name', min_count)\n",
    "\n",
    "\n"
   ]
  },
  {
   "cell_type": "code",
   "execution_count": 5,
   "metadata": {},
   "outputs": [],
   "source": [
    "# Extract X and y\n",
    "y = filtered_df['Attack Name']\n",
    "X = filtered_df.select_dtypes(include=['int64', 'float64'])\n",
    "X = X.drop(columns=['Label', 'Src Port', 'Dst Port', 'Protocol'], axis=1)"
   ]
  },
  {
   "cell_type": "code",
   "execution_count": 6,
   "metadata": {},
   "outputs": [],
   "source": [
    "scaler = MinMaxScaler(feature_range=(0, 50000))\n",
    "scaled_X = scaler.fit_transform(X)\n",
    "\n",
    "# Create random X_matrix and column_matrix (example, replace with actual data)\n",
    "X_matrix = np.random.rand(50000+1, 64)  # Replace with actual X_matrix\n",
    "column_matrix = np.random.rand(76, 64)  # Replace with actual column_matrix\n",
    "scaled_X = scaled_X.astype(int)"
   ]
  },
  {
   "cell_type": "code",
   "execution_count": 7,
   "metadata": {},
   "outputs": [
    {
     "data": {
      "text/plain": [
       "(dtype('float64'), dtype('float64'), dtype('int64'))"
      ]
     },
     "execution_count": 7,
     "metadata": {},
     "output_type": "execute_result"
    }
   ],
   "source": [
    "X_matrix.dtype, column_matrix.dtype, scaled_X.dtype"
   ]
  },
  {
   "cell_type": "code",
   "execution_count": 8,
   "metadata": {},
   "outputs": [],
   "source": [
    "import numpy as np\n",
    "\n",
    "def process_input_and_generate_result(scaled_X, X_matrix, column_matrix):\n",
    "    \"\"\"\n",
    "    Hàm nhận vào ma trận X và trả về kết quả tương ứng.\n",
    "    \n",
    "    :param X: Ma trận X chứa các chỉ số (index) để truy cập vào X_matrix và column_matrix\n",
    "    :param scaled_X: Ma trận scaled_X chứa các chỉ số để truy cập vào các giá trị trong X_matrix\n",
    "    :param X_matrix: Ma trận dữ liệu dùng để truy xuất theo các chỉ số từ scaled_X\n",
    "    :param column_matrix: Ma trận cột dùng để kết hợp với các giá trị từ X_matrix\n",
    "    :return: Ma trận kết quả đã được điền dữ liệu từ X_matrix và column_matrix\n",
    "    \"\"\"\n",
    "    \n",
    "    # Tạo file nhớ ảo trên đĩa\n",
    "    result = np.zeros((scaled_X.shape[0], scaled_X.shape[1], X_matrix.shape[1] + column_matrix.shape[1]))  # (195720, 76, 128)\n",
    "\n",
    "    # Điền giá trị cho result trong vòng lặp\n",
    "    for i in range(scaled_X.shape[0]):\n",
    "        for j in range(scaled_X.shape[1]):\n",
    "            x_value = X_matrix[scaled_X[i, j]]\n",
    "            column_value = column_matrix[j]\n",
    "            result[i, j] = np.concatenate((x_value, column_value))\n",
    "\n",
    "    # Trả về kết quả\n",
    "    return result\n",
    "\n",
    "# Ví dụ sử dụng hàm\n",
    "result = process_input_and_generate_result(scaled_X[:10], X_matrix, column_matrix)\n"
   ]
  },
  {
   "cell_type": "code",
   "execution_count": 9,
   "metadata": {},
   "outputs": [],
   "source": [
    "import numpy as np\n",
    "\n",
    "def process_input_and_generate_result_tensor(scaled_X, X_matrix, column_matrix):\n",
    "    \n",
    "    result = torch.zeros((scaled_X.shape[0], scaled_X.shape[1], X_matrix.shape[1] + column_matrix.shape[1]))  # (195720, 76, 128)\n",
    "\n",
    "    for i in range(scaled_X.shape[0]):\n",
    "        for j in range(scaled_X.shape[1]):\n",
    "            x_value = X_matrix[scaled_X[i, j]]\n",
    "            column_value = column_matrix[j]\n",
    "            result[i, j] = torch.concatenate((x_value, column_value))\n",
    "\n",
    "    return result"
   ]
  },
  {
   "cell_type": "code",
   "execution_count": 10,
   "metadata": {},
   "outputs": [
    {
     "data": {
      "text/plain": [
       "(10, 76)"
      ]
     },
     "execution_count": 10,
     "metadata": {},
     "output_type": "execute_result"
    }
   ],
   "source": [
    "scaled_X[:10].shape"
   ]
  },
  {
   "cell_type": "code",
   "execution_count": 11,
   "metadata": {},
   "outputs": [
    {
     "data": {
      "text/plain": [
       "(10, 76, 128)"
      ]
     },
     "execution_count": 11,
     "metadata": {},
     "output_type": "execute_result"
    }
   ],
   "source": [
    "result.shape"
   ]
  },
  {
   "cell_type": "code",
   "execution_count": 12,
   "metadata": {},
   "outputs": [],
   "source": [
    "from sklearn.preprocessing import LabelEncoder\n",
    "\n",
    "le = LabelEncoder()\n",
    "y_encoded = le.fit_transform(y)"
   ]
  },
  {
   "cell_type": "code",
   "execution_count": 13,
   "metadata": {},
   "outputs": [
    {
     "data": {
      "text/plain": [
       "((10, 76, 128), (3362319,))"
      ]
     },
     "execution_count": 13,
     "metadata": {},
     "output_type": "execute_result"
    }
   ],
   "source": [
    "result.shape, y_encoded.shape"
   ]
  },
  {
   "cell_type": "code",
   "execution_count": 14,
   "metadata": {},
   "outputs": [
    {
     "data": {
      "text/plain": [
       "array(['Benign Traffic', 'DoS TCP Flood', 'MQTT DDoS Publish Flood',\n",
       "       'MQTT DoS Connect Flood', 'Recon OS Scan', 'Recon Port Scan'],\n",
       "      dtype=object)"
      ]
     },
     "execution_count": 14,
     "metadata": {},
     "output_type": "execute_result"
    }
   ],
   "source": [
    "le.classes_ "
   ]
  },
  {
   "cell_type": "code",
   "execution_count": 15,
   "metadata": {},
   "outputs": [],
   "source": [
    "def collate_fn(batch):\n",
    "    \"\"\"\n",
    "    Collate function to process data with process_input_and_generate_result.\n",
    "    \n",
    "    :param batch: A batch of data (inputs, targets)\n",
    "    :return: Processed batch (inputs, targets)\n",
    "    \"\"\"\n",
    "    inputs, targets = zip(*batch)  # Tách dữ liệu và nhãn\n",
    "\n",
    "    # Chuyển danh sách inputs thành một tensor 3D, có shape: (batch_size, seq_len, input_size)\n",
    "    inputs = torch.stack(inputs, dim=0)\n",
    "    targets = torch.tensor(targets, dtype=torch.long)\n",
    "\n",
    "    # Giả sử bạn đã có sẵn scaled_X, X_matrix, và column_matrix\n",
    "    # Chuyển đổi dữ liệu sử dụng hàm process_input_and_generate_result\n",
    "    processed_inputs = process_input_and_generate_result(inputs.numpy(), X_matrix, column_matrix)\n",
    "    \n",
    "    # Chuyển processed_inputs về dạng tensor\n",
    "    processed_inputs = torch.tensor(processed_inputs, dtype=torch.float32)\n",
    "    \n",
    "    return processed_inputs, targets\n"
   ]
  },
  {
   "cell_type": "code",
   "execution_count": 26,
   "metadata": {},
   "outputs": [
    {
     "name": "stdout",
     "output_type": "stream",
     "text": [
      "[0 1 2 3 4 5]\n",
      "Using device: cuda\n"
     ]
    }
   ],
   "source": [
    "import torch\n",
    "import torch.nn as nn\n",
    "import torch.optim as optim\n",
    "import numpy as np\n",
    "from sklearn.metrics import classification_report\n",
    "from sklearn.model_selection import train_test_split\n",
    "from tqdm import tqdm  # Import tqdm để sử dụng progress bar\n",
    "from torch.utils.tensorboard import SummaryWriter  # Import TensorBoard writer\n",
    "from model import CNNClassifier\n",
    "\n",
    "# Giả sử dữ liệu của bạn đã có sẵn\n",
    "# result: Dữ liệu đầu vào (195720, 76, 128)\n",
    "# y_encoded: Nhãn mục tiêu đã được mã hóa sẵn (195720, )\n",
    "\n",
    "# result = np.random.rand(195720, 76, 128)  # Ví dụ về dữ liệu đầu vào (có thể thay thế bằng dữ liệu thật)\n",
    "# y_encoded = np.random.randint(0, 6, size=(195720,))  # Ví dụ về nhãn mục tiêu với 6 lớp (0-5)\n",
    "\n",
    "# Kiểm tra giá trị duy nhất trong y_encoded\n",
    "print(np.unique(y_encoded))  # Đảm bảo giá trị chỉ là 0, 1, 2, 3, 4, 5\n",
    "\n",
    "# Kiểm tra xem có GPU có thể sử dụng không\n",
    "device = torch.device(\"cuda\" if torch.cuda.is_available() else \"cpu\")\n",
    "print(f\"Using device: {device}\")\n",
    "\n",
    "# Chuyển dữ liệu sang tensor PyTorch và chuyển sang GPU nếu có\n",
    "X_tensor = torch.tensor(scaled_X, dtype=torch.long)  # Tensor đầu vào\n",
    "y_tensor = torch.tensor(y_encoded, dtype=torch.long)  # Tensor nhãn mục tiêu (dạng long cho phân loại)\n",
    "\n",
    "# Chia dữ liệu thành train, validation và test\n",
    "X_train, X_temp, y_train, y_temp = train_test_split(X_tensor, y_tensor, test_size=0.4, random_state=42, stratify=y_tensor)\n",
    "X_val, X_test, y_val, y_test = train_test_split(X_temp, y_temp, test_size=0.5, random_state=42, stratify=y_temp)\n",
    "\n",
    "# Các tham số mô hình\n",
    "input_size = 128  # Kích thước của mỗi đầu vào (sau khi nối X_matrix và column_matrix)\n",
    "hidden_size = 64  # Kích thước của hidden layer\n",
    "num_layers = 2  # Số lớp LSTM\n",
    "num_classes = len(np.unique(y_encoded)) \n",
    "sequence_length = X_train.shape[1]  # Độ dài của mỗi chuỗi dữ liệu\n",
    "\n",
    "# Khởi tạo mô hình, loss function và optimizer\n",
    "model = CNNClassifier(input_size, sequence_length, num_classes)\n",
    "model.to(device)\n",
    "criterion = nn.CrossEntropyLoss()  # CrossEntropyLoss cho phân loại đa lớp\n",
    "optimizer = optim.Adam(model.parameters(), lr=0.001)  # Optimizer Adam\n",
    "\n",
    "# Định nghĩa DataLoader cho train, validation và test set\n",
    "train_dataset = torch.utils.data.TensorDataset(X_train, y_train)\n",
    "val_dataset = torch.utils.data.TensorDataset(X_val, y_val)\n",
    "test_dataset = torch.utils.data.TensorDataset(X_test, y_test)\n",
    "\n",
    "batch_size = 256 * 2\n",
    "train_loader = torch.utils.data.DataLoader(train_dataset, batch_size=batch_size, shuffle=True, collate_fn=collate_fn)\n",
    "val_loader = torch.utils.data.DataLoader(val_dataset, batch_size=batch_size, shuffle=False, collate_fn=collate_fn)\n",
    "test_loader = torch.utils.data.DataLoader(test_dataset, batch_size=batch_size, shuffle=False, collate_fn=collate_fn)\n",
    "\n"
   ]
  },
  {
   "cell_type": "code",
   "execution_count": 27,
   "metadata": {},
   "outputs": [],
   "source": [
    "timestamp = datetime.now().strftime('%Y%m%d_%H%M%S')\n",
    "log_dir = f'./logs/{timestamp}'\n",
    "os.makedirs(log_dir, exist_ok=True)\n",
    "writer = SummaryWriter(log_dir=log_dir)"
   ]
  },
  {
   "cell_type": "code",
   "execution_count": 28,
   "metadata": {},
   "outputs": [
    {
     "data": {
      "text/plain": [
       "['./logs/20241208_012214\\\\min_max_scaler.joblib']"
      ]
     },
     "execution_count": 28,
     "metadata": {},
     "output_type": "execute_result"
    }
   ],
   "source": [
    "# save X_matrix and column_matrix, scaled_X, y_encoded, le, scaler\n",
    "np.save(os.path.join(log_dir, 'X_matrix.npy'), X_matrix)\n",
    "np.save(os.path.join(log_dir, 'column_matrix.npy'), column_matrix)\n",
    "np.save(os.path.join(log_dir, 'scaled_X.npy'), scaled_X)\n",
    "np.save(os.path.join(log_dir, 'y_encoded.npy'), y_encoded)\n",
    "import joblib\n",
    "\n",
    "joblib.dump(le, os.path.join(log_dir, 'label_encoder.joblib'))\n",
    "joblib.dump(scaler, os.path.join(log_dir, 'min_max_scaler.joblib'))"
   ]
  },
  {
   "cell_type": "code",
   "execution_count": 29,
   "metadata": {},
   "outputs": [
    {
     "name": "stdout",
     "output_type": "stream",
     "text": [
      "CNNClassifier(\n",
      "  (conv1): Conv1d(128, 64, kernel_size=(3,), stride=(1,), padding=(1,))\n",
      "  (conv2): Conv1d(64, 128, kernel_size=(3,), stride=(1,), padding=(1,))\n",
      "  (pool): MaxPool1d(kernel_size=2, stride=2, padding=0, dilation=1, ceil_mode=False)\n",
      "  (fc): Linear(in_features=2432, out_features=6, bias=True)\n",
      ")\n"
     ]
    }
   ],
   "source": [
    "print(model)"
   ]
  },
  {
   "cell_type": "code",
   "execution_count": 30,
   "metadata": {},
   "outputs": [
    {
     "name": "stderr",
     "output_type": "stream",
     "text": [
      "Epoch 1/5:   0%|          | 0/3941 [00:00<?, ?batch/s]"
     ]
    },
    {
     "name": "stderr",
     "output_type": "stream",
     "text": [
      "Epoch 1/5: 100%|██████████| 3941/3941 [14:19<00:00,  4.59batch/s, accuracy=96.7, loss=0.00981]\n"
     ]
    },
    {
     "name": "stdout",
     "output_type": "stream",
     "text": [
      "Train Loss: 0.0785, Train Accuracy: 96.74%\n",
      "Validation Accuracy: 97.25%\n",
      "Model saved at ./logs/20241208_012214\\model_epoch_1.pth\n"
     ]
    },
    {
     "name": "stderr",
     "output_type": "stream",
     "text": [
      "Epoch 2/5: 100%|██████████| 3941/3941 [13:36<00:00,  4.83batch/s, accuracy=97.2, loss=0.00781]\n"
     ]
    },
    {
     "name": "stdout",
     "output_type": "stream",
     "text": [
      "Train Loss: 0.0624, Train Accuracy: 97.23%\n",
      "Validation Accuracy: 97.26%\n",
      "Model saved at ./logs/20241208_012214\\model_epoch_2.pth\n"
     ]
    },
    {
     "name": "stderr",
     "output_type": "stream",
     "text": [
      "Epoch 3/5: 100%|██████████| 3941/3941 [13:42<00:00,  4.79batch/s, accuracy=97.2, loss=0.00765]\n"
     ]
    },
    {
     "name": "stdout",
     "output_type": "stream",
     "text": [
      "Train Loss: 0.0612, Train Accuracy: 97.25%\n",
      "Validation Accuracy: 97.28%\n",
      "Model saved at ./logs/20241208_012214\\model_epoch_3.pth\n"
     ]
    },
    {
     "name": "stderr",
     "output_type": "stream",
     "text": [
      "Epoch 4/5: 100%|██████████| 3941/3941 [13:34<00:00,  4.84batch/s, accuracy=97.3, loss=0.00756]\n"
     ]
    },
    {
     "name": "stdout",
     "output_type": "stream",
     "text": [
      "Train Loss: 0.0605, Train Accuracy: 97.28%\n",
      "Validation Accuracy: 97.29%\n",
      "Model saved at ./logs/20241208_012214\\model_epoch_4.pth\n"
     ]
    },
    {
     "name": "stderr",
     "output_type": "stream",
     "text": [
      "Epoch 5/5: 100%|██████████| 3941/3941 [13:28<00:00,  4.88batch/s, accuracy=97.3, loss=0.0075] \n"
     ]
    },
    {
     "name": "stdout",
     "output_type": "stream",
     "text": [
      "Train Loss: 0.0600, Train Accuracy: 97.28%\n",
      "Validation Accuracy: 97.28%\n",
      "Model saved at ./logs/20241208_012214\\model_epoch_5.pth\n"
     ]
    }
   ],
   "source": [
    "\n",
    "\n",
    "# Đào tạo mô hình\n",
    "num_epochs = 5\n",
    "for epoch in range(num_epochs):\n",
    "    model.train()  # Đặt mô hình vào chế độ huấn luyện\n",
    "    epoch_loss = 0\n",
    "    correct_train = 0\n",
    "    total_train = 0\n",
    "    \n",
    "    # Sử dụng tqdm để thêm progress bar vào vòng lặp batch\n",
    "    with tqdm(train_loader, desc=f'Epoch {epoch+1}/{num_epochs}', unit='batch') as pbar:\n",
    "        for inputs, targets in pbar:\n",
    "            inputs, targets = inputs.to(device), targets.to(device)  # Chuyển inputs và targets sang GPU\n",
    "            \n",
    "            # Forward pass\n",
    "            outputs = model(inputs)  # Lấy đầu ra của mô hình\n",
    "            \n",
    "            # Tính loss\n",
    "            loss = criterion(outputs, targets)\n",
    "            \n",
    "            # Backward pass và tối ưu\n",
    "            optimizer.zero_grad()  # Xoá gradient cũ\n",
    "            loss.backward()  # Tính gradient\n",
    "            optimizer.step()  # Cập nhật tham số\n",
    "            \n",
    "            epoch_loss += loss.item()\n",
    "\n",
    "            # Tính accuracy trên tập train\n",
    "            _, predicted = torch.max(outputs, 1)\n",
    "            total_train += targets.size(0)\n",
    "            correct_train += (predicted == targets).sum().item()\n",
    "\n",
    "            # Cập nhật tiến trình\n",
    "            pbar.set_postfix(loss=epoch_loss / (total_train / 64), accuracy=100 * correct_train / total_train)  # Cập nhật tiến trình\n",
    "            pbar.update(1)  # Cập nhật progress bar\n",
    "    \n",
    "    # Tính accuracy và log vào TensorBoard\n",
    "    train_accuracy = 100 * correct_train / total_train\n",
    "    print(f\"Train Loss: {epoch_loss / len(train_loader):.4f}, Train Accuracy: {train_accuracy:.2f}%\")\n",
    "\n",
    "    # Log loss and accuracy to TensorBoard\n",
    "    writer.add_scalar('Loss/train', epoch_loss / len(train_loader), epoch)\n",
    "    writer.add_scalar('Accuracy/train', train_accuracy, epoch)\n",
    "\n",
    "    # Kiểm tra accuracy trên tập validation\n",
    "    model.eval()  # Chuyển mô hình sang chế độ đánh giá\n",
    "    correct_val = 0\n",
    "    total_val = 0\n",
    "    with torch.no_grad():\n",
    "        for inputs, targets in val_loader:\n",
    "            inputs, targets = inputs.to(device), targets.to(device)  # Chuyển sang GPU\n",
    "            outputs = model(inputs)\n",
    "            _, predicted = torch.max(outputs, 1)\n",
    "            total_val += targets.size(0)\n",
    "            correct_val += (predicted == targets).sum().item()\n",
    "    \n",
    "    val_accuracy = 100 * correct_val / total_val\n",
    "    print(f\"Validation Accuracy: {val_accuracy:.2f}%\")\n",
    "    \n",
    "    # Log validation accuracy to TensorBoard\n",
    "    writer.add_scalar('Accuracy/val', val_accuracy, epoch)\n",
    "\n",
    "    # Save model checkpoint after each epoch\n",
    "    model_save_path = os.path.join(log_dir, f'model_epoch_{epoch+1}.pth')\n",
    "    torch.save(model.state_dict(), model_save_path)\n",
    "    print(f\"Model saved at {model_save_path}\")\n",
    "\n"
   ]
  },
  {
   "cell_type": "code",
   "execution_count": 31,
   "metadata": {},
   "outputs": [
    {
     "name": "stdout",
     "output_type": "stream",
     "text": [
      "Test Accuracy: 97.31%\n",
      "Classification Report on Test Set:\n",
      "              precision    recall  f1-score   support\n",
      "\n",
      "           0       0.95      0.99      0.97      6524\n",
      "           1       1.00      1.00      1.00    421384\n",
      "           2       0.98      1.00      0.99     82782\n",
      "           3       1.00      0.97      0.98     47606\n",
      "           4       0.58      0.23      0.33     17064\n",
      "           5       0.88      0.97      0.92     97104\n",
      "\n",
      "    accuracy                           0.97    672464\n",
      "   macro avg       0.90      0.86      0.87    672464\n",
      "weighted avg       0.97      0.97      0.97    672464\n",
      "\n"
     ]
    }
   ],
   "source": [
    "# After training, evaluate on test set once\n",
    "model.eval()  # Ensure model is in evaluation mode\n",
    "correct_test = 0\n",
    "total_test = 0\n",
    "all_preds = []\n",
    "all_labels = []\n",
    "\n",
    "with torch.no_grad():\n",
    "    for inputs, targets in test_loader:\n",
    "        inputs, targets = inputs.to(device), targets.to(device)  # Chuyển sang GPU\n",
    "        outputs = model(inputs)\n",
    "        _, predicted = torch.max(outputs, 1)\n",
    "        total_test += targets.size(0)\n",
    "        correct_test += (predicted == targets).sum().item()\n",
    "        all_preds.extend(predicted.cpu().numpy())\n",
    "        all_labels.extend(targets.cpu().numpy())\n",
    "\n",
    "test_accuracy = 100 * correct_test / total_test\n",
    "print(f\"Test Accuracy: {test_accuracy:.2f}%\")\n",
    "\n",
    "# In classification report\n",
    "print(\"Classification Report on Test Set:\")\n",
    "print(classification_report(all_labels, all_preds))\n",
    "\n",
    "# Log test accuracy to TensorBoard\n",
    "writer.add_scalar('Accuracy/test', test_accuracy)\n",
    "writer.close()"
   ]
  },
  {
   "cell_type": "code",
   "execution_count": 32,
   "metadata": {},
   "outputs": [
    {
     "name": "stdout",
     "output_type": "stream",
     "text": [
      "                         precision    recall  f1-score   support\n",
      "\n",
      "         Benign Traffic     0.9495    0.9914    0.9700      6524\n",
      "          DoS TCP Flood     0.9999    0.9995    0.9997    421384\n",
      "MQTT DDoS Publish Flood     0.9799    0.9988    0.9893     82782\n",
      " MQTT DoS Connect Flood     0.9965    0.9652    0.9806     47606\n",
      "        Recon Port Scan     0.8784    0.9700    0.9220     97104\n",
      "\n",
      "              micro avg     0.9771    0.9924    0.9847    655400\n",
      "              macro avg     0.9609    0.9850    0.9723    655400\n",
      "           weighted avg     0.9786    0.9924    0.9852    655400\n",
      "\n"
     ]
    }
   ],
   "source": [
    "print(classification_report(all_labels, all_preds, target_names=np.delete(le.classes_, 4), digits=4, labels=[0, 1, 2, 3, 5]))"
   ]
  },
  {
   "cell_type": "code",
   "execution_count": null,
   "metadata": {},
   "outputs": [
    {
     "data": {
      "image/png": "[encoded data removed]",
      "text/plain": [
       "<Figure size 640x480 with 1 Axes>"
      ]
     },
     "metadata": {},
     "output_type": "display_data"
    }
   ],
   "source": [
    "import matplotlib.pyplot as plt\n",
    "\n",
    "ax = y.value_counts().plot(kind='bar')\n",
    "\n",
    "# Add annotations for each bar\n",
    "for p in ax.patches:\n",
    "    ax.annotate(str(p.get_height()), (p.get_x() + p.get_width() / 2., p.get_height()),\n",
    "                ha='center', va='center', xytext=(0, 5), textcoords='offset points')\n",
    "\n",
    "# Rotate X-axis labels\n",
    "plt.xticks(rotation=45)\n",
    "\n",
    "# Show the plot\n",
    "plt.show()\n"
   ]
  },
  {
   "cell_type": "code",
   "execution_count": null,
   "metadata": {},
   "outputs": [
    {
     "data": {
      "image/png": "[encoded data removed]",
      "text/plain": [
       "<Figure size 600x600 with 1 Axes>"
      ]
     },
     "metadata": {},
     "output_type": "display_data"
    }
   ],
   "source": [
    "value_counts = y.value_counts()\n",
    "\n",
    "# Plot the pie chart with labels and values\n",
    "plt.figure(figsize=(6, 6))\n",
    "plt.pie(value_counts, labels=value_counts.index, autopct='%1.1f%%', startangle=90)\n",
    "\n",
    "# Add title\n",
    "plt.title(\"Category Distribution\")\n",
    "\n",
    "# Show the plot\n",
    "plt.show()"
   ]
  },
  {
   "cell_type": "code",
   "execution_count": null,
   "metadata": {},
   "outputs": [],
   "source": []
  }
 ],
 "metadata": {
  "kernelspec": {
   "display_name": ".venv",
   "language": "python",
   "name": "python3"
  },
  "language_info": {
   "codemirror_mode": {
    "name": "ipython",
    "version": 3
   },
   "file_extension": ".py",
   "mimetype": "text/x-python",
   "name": "python",
   "nbconvert_exporter": "python",
   "pygments_lexer": "ipython3",
   "version": "3.12.8"
  }
 },
 "nbformat": 4,
 "nbformat_minor": 2
}
